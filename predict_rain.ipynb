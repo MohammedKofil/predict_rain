{
  "nbformat": 4,
  "nbformat_minor": 0,
  "metadata": {
    "colab": {
      "name": "predict_rain.ipynb",
      "provenance": [],
      "authorship_tag": "ABX9TyPO2uN4mNoUgaNxqxc38pG3",
      "include_colab_link": true
    },
    "kernelspec": {
      "name": "python3",
      "display_name": "Python 3"
    },
    "language_info": {
      "name": "python"
    }
  },
  "cells": [
    {
      "cell_type": "markdown",
      "metadata": {
        "id": "view-in-github",
        "colab_type": "text"
      },
      "source": [
        "<a href=\"https://colab.research.google.com/github/MohammedKofil/predict_rain/blob/main/predict_rain.ipynb\" target=\"_parent\"><img src=\"https://colab.research.google.com/assets/colab-badge.svg\" alt=\"Open In Colab\"/></a>"
      ]
    },
    {
      "cell_type": "code",
      "execution_count": null,
      "metadata": {
        "colab": {
          "base_uri": "https://localhost:8080/"
        },
        "id": "JoYcWXDuZ0QQ",
        "outputId": "5ba0c4c0-40cd-4a29-c190-423d43d2ceba"
      },
      "outputs": [
        {
          "output_type": "stream",
          "name": "stdout",
          "text": [
            "Drive already mounted at /content/gdrive; to attempt to forcibly remount, call drive.mount(\"/content/gdrive\", force_remount=True).\n"
          ]
        }
      ],
      "source": [
        "from google.colab import drive\n",
        "drive.mount(\"/content/gdrive\")"
      ]
    },
    {
      "cell_type": "markdown",
      "source": [
        "Step 1: Import the required libraries"
      ],
      "metadata": {
        "id": "xihiU9qLsCgM"
      }
    },
    {
      "cell_type": "code",
      "source": [
        "# For linear algebra\n",
        "import numpy as np\n",
        "# For data processing\n",
        "import pandas as pd"
      ],
      "metadata": {
        "id": "xM59y8Tbab5x"
      },
      "execution_count": null,
      "outputs": []
    },
    {
      "cell_type": "markdown",
      "source": [
        "Step 2: Load the data set"
      ],
      "metadata": {
        "id": "bFACGVb4sFfR"
      }
    },
    {
      "cell_type": "code",
      "source": [
        "#Load the data set\n",
        "df = pd.read_csv('/content/gdrive/MyDrive/Artificial In Lab/Predict Rain Project/weatherAUS.csv')\n",
        "#Display the shape of the data set\n",
        "print('Size of weather data frame is :',df.shape)\n",
        "#Display data\n",
        "print(df[0:5])"
      ],
      "metadata": {
        "colab": {
          "base_uri": "https://localhost:8080/"
        },
        "id": "4FWJoNEZailP",
        "outputId": "2d8b397b-d25e-4d1b-e5fb-ef887ef2a38e"
      },
      "execution_count": null,
      "outputs": [
        {
          "output_type": "stream",
          "name": "stdout",
          "text": [
            "Size of weather data frame is : (36881, 24)\n",
            "        Date      Location  MinTemp  MaxTemp  Rainfall  Evaporation  Sunshine  \\\n",
            "0  5/18/2009        Hobart      5.1     14.3       0.0          1.8       8.9   \n",
            "1   7/3/2009    Launceston      1.1     14.5       0.4          NaN       NaN   \n",
            "2  2/18/2010   Williamtown     19.7     26.2       0.0          7.2       7.2   \n",
            "3   3/4/2010  PerthAirport     16.6     28.0       0.0          9.0      11.3   \n",
            "4   9/9/2010     GoldCoast     14.6     25.3       0.0          NaN       NaN   \n",
            "\n",
            "  WindGustDir  WindGustSpeed WindDir9am  ... Humidity3pm  Pressure9am  \\\n",
            "0          NW           30.0        WSW  ...        47.0       1023.1   \n",
            "1         SSW           50.0          E  ...        46.0       1001.5   \n",
            "2         SSE           41.0        SSE  ...        50.0       1020.9   \n",
            "3          SW           54.0        SSE  ...        41.0       1018.3   \n",
            "4         NNW           43.0        WNW  ...        67.0       1020.3   \n",
            "\n",
            "   Pressure3pm  Cloud9am  Cloud3pm  Temp9am  Temp3pm  RainToday  RISK_MM  \\\n",
            "0       1022.2       1.0       1.0      9.1     13.3         No      0.0   \n",
            "1       1002.4       NaN       NaN      1.3     13.7         No      0.0   \n",
            "2       1021.9       6.0       4.0     22.7     24.4         No      0.2   \n",
            "3       1014.9       6.0       1.0     20.0     26.1         No      0.0   \n",
            "4       1015.0       NaN       NaN     22.2     22.6         No      0.4   \n",
            "\n",
            "   RainTomorrow  \n",
            "0            No  \n",
            "1            No  \n",
            "2            No  \n",
            "3            No  \n",
            "4            No  \n",
            "\n",
            "[5 rows x 24 columns]\n"
          ]
        }
      ]
    },
    {
      "cell_type": "markdown",
      "source": [
        "Step 3: Data Preprocessing"
      ],
      "metadata": {
        "id": "OqMAZYgWsJfx"
      }
    },
    {
      "cell_type": "code",
      "source": [
        "# Checking for null values\n",
        "print(df.count().sort_values())"
      ],
      "metadata": {
        "colab": {
          "base_uri": "https://localhost:8080/"
        },
        "id": "doI5Oq7oaxCK",
        "outputId": "f999fc49-ebf1-4fa9-c778-55ea2b670f67"
      },
      "execution_count": null,
      "outputs": [
        {
          "output_type": "stream",
          "name": "stdout",
          "text": [
            "Sunshine         23317\n",
            "Cloud3pm         23899\n",
            "Evaporation      24035\n",
            "Cloud9am         24381\n",
            "Pressure9am      33309\n",
            "Pressure3pm      33329\n",
            "WindGustDir      33513\n",
            "WindGustSpeed    33520\n",
            "WindDir9am       34072\n",
            "WindDir3pm       35919\n",
            "WindSpeed9am     36219\n",
            "WindSpeed3pm     36235\n",
            "RainToday        36255\n",
            "Rainfall         36255\n",
            "RainTomorrow     36261\n",
            "RISK_MM          36261\n",
            "Humidity9am      36311\n",
            "Humidity3pm      36370\n",
            "Temp9am          36394\n",
            "Temp3pm          36437\n",
            "MinTemp          36543\n",
            "MaxTemp          36639\n",
            "Location         36881\n",
            "Date             36881\n",
            "dtype: int64\n"
          ]
        }
      ]
    },
    {
      "cell_type": "code",
      "source": [
        "df = df.drop(columns=['Sunshine','Evaporation','Cloud3pm','Cloud9am','Location','RISK_MM','Date'],axis=1)\n",
        "print(df.shape)"
      ],
      "metadata": {
        "colab": {
          "base_uri": "https://localhost:8080/"
        },
        "id": "Y0YX5gxEbBeu",
        "outputId": "c319b7ae-7dc3-4510-aff2-602545427a11"
      },
      "execution_count": null,
      "outputs": [
        {
          "output_type": "stream",
          "name": "stdout",
          "text": [
            "(36881, 17)\n"
          ]
        }
      ]
    },
    {
      "cell_type": "code",
      "source": [
        "#Removing null values\n",
        "df = df.dropna(how='any')\n",
        "print(df.shape)"
      ],
      "metadata": {
        "colab": {
          "base_uri": "https://localhost:8080/"
        },
        "id": "_9gcBWV5bFhZ",
        "outputId": "65f0ccb6-4cd7-4315-a110-04ded963a63a"
      },
      "execution_count": null,
      "outputs": [
        {
          "output_type": "stream",
          "name": "stdout",
          "text": [
            "(28816, 17)\n"
          ]
        }
      ]
    },
    {
      "cell_type": "code",
      "source": [
        "from scipy import stats\n",
        "z = np.abs(stats.zscore(df._get_numeric_data()))\n",
        "print(z)\n",
        "df= df[(z < 3).all(axis=1)]\n",
        "print(df.shape)"
      ],
      "metadata": {
        "colab": {
          "base_uri": "https://localhost:8080/"
        },
        "id": "IP597NoKbJw_",
        "outputId": "961ddc6d-6775-4354-bf46-e35f469df261"
      },
      "execution_count": null,
      "outputs": [
        {
          "output_type": "stream",
          "name": "stdout",
          "text": [
            "[[1.21193972e+00 1.31984217e+00 2.82689584e-01 ... 1.07104053e+00\n",
            "  1.30495504e+00 1.27084599e+00]\n",
            " [1.85004136e+00 1.29075486e+00 2.39210196e-01 ... 1.75452445e+00\n",
            "  2.53486404e+00 1.21152731e+00]\n",
            " [1.11713127e+00 4.10852679e-01 2.82689584e-01 ... 1.02822894e+00\n",
            "  8.39501668e-01 3.75247359e-01]\n",
            " ...\n",
            " [1.24475160e+00 1.21075366e+00 2.82689584e-01 ... 8.12669455e-01\n",
            "  1.31254359e+00 1.27985722e+00]\n",
            " [1.02050923e+00 1.09132924e-02 2.82689584e-01 ... 7.42818340e-01\n",
            "  1.53886368e-01 1.43791085e-01]\n",
            " [5.25980455e-01 4.25396333e-01 2.82689584e-01 ... 7.50767762e-04\n",
            "  1.06582176e-01 5.08714388e-01]]\n",
            "(27472, 17)\n"
          ]
        }
      ]
    },
    {
      "cell_type": "code",
      "source": [
        "#Change yes and no to 1 and 0 respectvely for RainToday and RainTomorrow variable\n",
        "df['RainToday'].replace({'No': 0, 'Yes': 1},inplace = True)\n",
        "df['RainTomorrow'].replace({'No': 0, 'Yes': 1},inplace = True)"
      ],
      "metadata": {
        "id": "ORLBq_MGbP_S"
      },
      "execution_count": null,
      "outputs": []
    },
    {
      "cell_type": "markdown",
      "source": [
        "Step 4: Exploratory Data Analysis (EDA)"
      ],
      "metadata": {
        "id": "yhao6MViseny"
      }
    },
    {
      "cell_type": "code",
      "source": [
        "#Using SelectKBest to get the top features!\n",
        "from sklearn.feature_selection import SelectKBest, chi2\n",
        "X = df.loc[:,df.columns!='RainTomorrow']\n",
        "y = df[['RainTomorrow']]\n",
        "selector = SelectKBest(chi2, k=3)\n",
        "selector.fit(X, y)\n",
        "X_new = selector.transform(X)\n",
        "print(X.columns[selector.get_support(indices=True)])"
      ],
      "metadata": {
        "colab": {
          "base_uri": "https://localhost:8080/"
        },
        "id": "b0pxtbgVc2lB",
        "outputId": "2e5ceadf-0737-4820-bcc6-88f693fa199d"
      },
      "execution_count": null,
      "outputs": [
        {
          "output_type": "stream",
          "name": "stdout",
          "text": [
            "Index(['Humidity3pm', 'Rainfall', 'RainToday'], dtype='object')\n"
          ]
        }
      ]
    },
    {
      "cell_type": "markdown",
      "source": [
        "The output gives us the three most significant predictor variables:\n",
        "\n",
        "1. Humidity3pm\n",
        "\n",
        "2. Rainfall\n",
        "\n",
        "3. RainToday\n",
        "\n",
        "The main aim of this demo is to make you understand how Machine Learning works, therefore, to simplify the computations we will assign only one of these significant variables as the input."
      ],
      "metadata": {
        "id": "flGFK0iWswOC"
      }
    },
    {
      "cell_type": "code",
      "source": [
        "#The important features are put in a data frame\n",
        "df = df[['Humidity3pm','Rainfall','RainToday','RainTomorrow']]\n",
        " \n",
        "#To simplify computations we will use only one feature (Humidity3pm) to build the model\n",
        " \n",
        "X = df[['Humidity3pm']]\n",
        "y = df[['RainTomorrow']]"
      ],
      "metadata": {
        "id": "KtM4c6FkdN2Q"
      },
      "execution_count": null,
      "outputs": []
    },
    {
      "cell_type": "markdown",
      "source": [
        "Step 5: Building a Machine Learning Model"
      ],
      "metadata": {
        "id": "7YB1NI7htOWC"
      }
    },
    {
      "cell_type": "markdown",
      "source": [
        "Logistic Regression"
      ],
      "metadata": {
        "id": "KudOYTJ0tTE8"
      }
    },
    {
      "cell_type": "code",
      "source": [
        "#Logistic Regression\n",
        "from sklearn.linear_model import LogisticRegression\n",
        "from sklearn.model_selection import train_test_split\n",
        "from sklearn.metrics import accuracy_score\n",
        "import time\n",
        " \n",
        "#Calculating the accuracy and the time taken by the classifier\n",
        "t0=time.time()\n",
        "#Data Splicing\n",
        "X_train,X_test,y_train,y_test = train_test_split(X,y,test_size=0.25)\n",
        "clf_logreg = LogisticRegression(random_state=0)\n",
        "#Building the model using the training data set\n",
        "clf_logreg.fit(X_train,y_train)\n",
        " \n",
        "#Evaluating the model using testing data set\n",
        "y_pred = clf_logreg.predict(X_test)\n",
        "score = accuracy_score(y_test,y_pred)\n",
        " \n",
        "#Printing the accuracy and the time taken by the classifier\n",
        "print('Accuracy using Logistic Regression:',score)\n",
        "print('Time taken using Logistic Regression:' , time.time()-t0)"
      ],
      "metadata": {
        "colab": {
          "base_uri": "https://localhost:8080/"
        },
        "id": "R1afuQMBkCm5",
        "outputId": "c7cb57d4-9db3-4457-d30e-132ea78250f1"
      },
      "execution_count": null,
      "outputs": [
        {
          "output_type": "stream",
          "name": "stdout",
          "text": [
            "Accuracy using Logistic Regression: 0.8197437390797904\n",
            "Time taken using Logistic Regression: 0.05460095405578613\n"
          ]
        },
        {
          "output_type": "stream",
          "name": "stderr",
          "text": [
            "/usr/local/lib/python3.7/dist-packages/sklearn/utils/validation.py:993: DataConversionWarning: A column-vector y was passed when a 1d array was expected. Please change the shape of y to (n_samples, ), for example using ravel().\n",
            "  y = column_or_1d(y, warn=True)\n"
          ]
        }
      ]
    },
    {
      "cell_type": "markdown",
      "source": [
        "Random Forest Classifier"
      ],
      "metadata": {
        "id": "C6uPNaYWtWKj"
      }
    },
    {
      "cell_type": "code",
      "source": [
        "#Random Forest Classifier\n",
        "from sklearn.ensemble import RandomForestClassifier\n",
        "from sklearn.model_selection import train_test_split\n",
        " \n",
        "#Calculating the accuracy and the time taken by the classifier\n",
        "t0=time.time()\n",
        "#Data Splicing\n",
        "X_train,X_test,y_train,y_test = train_test_split(X,y,test_size=0.25)\n",
        "clf_rf = RandomForestClassifier(n_estimators=100, max_depth=4,random_state=0)\n",
        "#Building the model using the training data set\n",
        "clf_rf.fit(X_train,y_train)\n",
        " \n",
        "#Evaluating the model using testing data set\n",
        "y_pred = clf_rf.predict(X_test)\n",
        "score = accuracy_score(y_test,y_pred)\n",
        " \n",
        "#Printing the accuracy and the time taken by the classifier\n",
        "print('Accuracy using Random Forest Classifier:',score)\n",
        "print('Time taken using Random Forest Classifier:' , time.time()-t0)"
      ],
      "metadata": {
        "colab": {
          "base_uri": "https://localhost:8080/"
        },
        "id": "NaLbpTxVkIQ_",
        "outputId": "52e8ff00-9293-4685-c64e-ef46f2910301"
      },
      "execution_count": null,
      "outputs": [
        {
          "output_type": "stream",
          "name": "stderr",
          "text": [
            "/usr/local/lib/python3.7/dist-packages/ipykernel_launcher.py:11: DataConversionWarning: A column-vector y was passed when a 1d array was expected. Please change the shape of y to (n_samples,), for example using ravel().\n",
            "  # This is added back by InteractiveShellApp.init_path()\n"
          ]
        },
        {
          "output_type": "stream",
          "name": "stdout",
          "text": [
            "Accuracy using Random Forest Classifier: 0.8289167152009319\n",
            "Time taken using Random Forest Classifier: 0.72393798828125\n"
          ]
        }
      ]
    },
    {
      "cell_type": "markdown",
      "source": [
        "Decision Tree Classifier"
      ],
      "metadata": {
        "id": "ifhtfXMYteE8"
      }
    },
    {
      "cell_type": "code",
      "source": [
        "#Decision Tree Classifier\n",
        "from sklearn.tree import DecisionTreeClassifier\n",
        "from sklearn.model_selection import train_test_split\n",
        " \n",
        "#Calculating the accuracy and the time taken by the classifier\n",
        "t0=time.time()\n",
        "#Data Splicing\n",
        "X_train,X_test,y_train,y_test = train_test_split(X,y,test_size=0.25)\n",
        "clf_dt = DecisionTreeClassifier(random_state=0)\n",
        "#Building the model using the training data set\n",
        "clf_dt.fit(X_train,y_train)\n",
        " \n",
        "#Evaluating the model using testing data set\n",
        "y_pred = clf_dt.predict(X_test)\n",
        "score = accuracy_score(y_test,y_pred)\n",
        " \n",
        "#Printing the accuracy and the time taken by the classifier\n",
        "print('Accuracy using Decision Tree Classifier:',score)\n",
        "print('Time taken using Decision Tree Classifier:' , time.time()-t0)"
      ],
      "metadata": {
        "colab": {
          "base_uri": "https://localhost:8080/"
        },
        "id": "6up9ptRckNMp",
        "outputId": "86fa8c35-bb92-40f3-dcd5-4064ed4bb0d1"
      },
      "execution_count": null,
      "outputs": [
        {
          "output_type": "stream",
          "name": "stdout",
          "text": [
            "Accuracy using Decision Tree Classifier: 0.8207629586488061\n",
            "Time taken using Decision Tree Classifier: 0.05325150489807129\n"
          ]
        }
      ]
    },
    {
      "cell_type": "markdown",
      "source": [
        "Support Vector Machine"
      ],
      "metadata": {
        "id": "wPLMFznBtfkB"
      }
    },
    {
      "cell_type": "code",
      "source": [
        "#Support Vector Machine\n",
        "from sklearn import svm\n",
        "from sklearn.model_selection import train_test_split\n",
        " \n",
        "#Calculating the accuracy and the time taken by the classifier\n",
        "t0=time.time()\n",
        "#Data Splicing\n",
        "X_train,X_test,y_train,y_test = train_test_split(X,y,test_size=0.25)\n",
        "clf_svc = svm.SVC(kernel='linear')\n",
        " \n",
        "#Building the model using the training data set\n",
        "clf_svc.fit(X_train,y_train)\n",
        " \n",
        "#Evaluating the model using testing data set\n",
        "y_pred = clf_svc.predict(X_test)\n",
        "score = accuracy_score(y_test,y_pred)\n",
        " \n",
        "#Printing the accuracy and the time taken by the classifier\n",
        "print('Accuracy using Support Vector Machine:',score)\n",
        "print('Time taken using Support Vector Machine:' , time.time()-t0)"
      ],
      "metadata": {
        "colab": {
          "base_uri": "https://localhost:8080/"
        },
        "id": "g0KLAP9tkRmJ",
        "outputId": "47ade518-4217-4fe3-c5a1-dba1a93bbc18"
      },
      "execution_count": null,
      "outputs": [
        {
          "output_type": "stream",
          "name": "stderr",
          "text": [
            "/usr/local/lib/python3.7/dist-packages/sklearn/utils/validation.py:993: DataConversionWarning: A column-vector y was passed when a 1d array was expected. Please change the shape of y to (n_samples, ), for example using ravel().\n",
            "  y = column_or_1d(y, warn=True)\n"
          ]
        },
        {
          "output_type": "stream",
          "name": "stdout",
          "text": [
            "Accuracy using Support Vector Machine: 0.8236750145602796\n",
            "Time taken using Support Vector Machine: 99.33533239364624\n"
          ]
        }
      ]
    },
    {
      "cell_type": "markdown",
      "source": [
        "Now predict rain and findout the accuracy of the dataset"
      ],
      "metadata": {
        "id": "jz70Jz8yBAB1"
      }
    },
    {
      "cell_type": "code",
      "source": [
        "from sklearn import preprocessing\n",
        "scaler = preprocessing.MinMaxScaler()\n",
        "scaler.fit(df)\n",
        "df = pd.DataFrame(scaler.transform(df), index=df.index, columns=df.columns)\n",
        "df.iloc[0:10]"
      ],
      "metadata": {
        "colab": {
          "base_uri": "https://localhost:8080/",
          "height": 363
        },
        "outputId": "0e64d0ac-0b85-45e5-e06f-042a2d73751d",
        "id": "iIz33g-uA53U"
      },
      "execution_count": null,
      "outputs": [
        {
          "output_type": "execute_result",
          "data": {
            "text/plain": [
              "   Humidity3pm  Rainfall  RainToday  RainTomorrow\n",
              "0     0.459184  0.000000        0.0           0.0\n",
              "1     0.448980  0.013333        0.0           0.0\n",
              "2     0.489796  0.000000        0.0           0.0\n",
              "3     0.397959  0.000000        0.0           0.0\n",
              "4     0.663265  0.000000        0.0           0.0\n",
              "5     0.857143  0.000000        0.0           1.0\n",
              "6     0.275510  0.000000        0.0           0.0\n",
              "7     0.632653  0.100000        1.0           0.0\n",
              "8     0.469388  0.000000        0.0           0.0\n",
              "9     0.397959  0.046667        1.0           0.0"
            ],
            "text/html": [
              "\n",
              "  <div id=\"df-9a86f841-dcae-4366-8dce-610bc431a11c\">\n",
              "    <div class=\"colab-df-container\">\n",
              "      <div>\n",
              "<style scoped>\n",
              "    .dataframe tbody tr th:only-of-type {\n",
              "        vertical-align: middle;\n",
              "    }\n",
              "\n",
              "    .dataframe tbody tr th {\n",
              "        vertical-align: top;\n",
              "    }\n",
              "\n",
              "    .dataframe thead th {\n",
              "        text-align: right;\n",
              "    }\n",
              "</style>\n",
              "<table border=\"1\" class=\"dataframe\">\n",
              "  <thead>\n",
              "    <tr style=\"text-align: right;\">\n",
              "      <th></th>\n",
              "      <th>Humidity3pm</th>\n",
              "      <th>Rainfall</th>\n",
              "      <th>RainToday</th>\n",
              "      <th>RainTomorrow</th>\n",
              "    </tr>\n",
              "  </thead>\n",
              "  <tbody>\n",
              "    <tr>\n",
              "      <th>0</th>\n",
              "      <td>0.459184</td>\n",
              "      <td>0.000000</td>\n",
              "      <td>0.0</td>\n",
              "      <td>0.0</td>\n",
              "    </tr>\n",
              "    <tr>\n",
              "      <th>1</th>\n",
              "      <td>0.448980</td>\n",
              "      <td>0.013333</td>\n",
              "      <td>0.0</td>\n",
              "      <td>0.0</td>\n",
              "    </tr>\n",
              "    <tr>\n",
              "      <th>2</th>\n",
              "      <td>0.489796</td>\n",
              "      <td>0.000000</td>\n",
              "      <td>0.0</td>\n",
              "      <td>0.0</td>\n",
              "    </tr>\n",
              "    <tr>\n",
              "      <th>3</th>\n",
              "      <td>0.397959</td>\n",
              "      <td>0.000000</td>\n",
              "      <td>0.0</td>\n",
              "      <td>0.0</td>\n",
              "    </tr>\n",
              "    <tr>\n",
              "      <th>4</th>\n",
              "      <td>0.663265</td>\n",
              "      <td>0.000000</td>\n",
              "      <td>0.0</td>\n",
              "      <td>0.0</td>\n",
              "    </tr>\n",
              "    <tr>\n",
              "      <th>5</th>\n",
              "      <td>0.857143</td>\n",
              "      <td>0.000000</td>\n",
              "      <td>0.0</td>\n",
              "      <td>1.0</td>\n",
              "    </tr>\n",
              "    <tr>\n",
              "      <th>6</th>\n",
              "      <td>0.275510</td>\n",
              "      <td>0.000000</td>\n",
              "      <td>0.0</td>\n",
              "      <td>0.0</td>\n",
              "    </tr>\n",
              "    <tr>\n",
              "      <th>7</th>\n",
              "      <td>0.632653</td>\n",
              "      <td>0.100000</td>\n",
              "      <td>1.0</td>\n",
              "      <td>0.0</td>\n",
              "    </tr>\n",
              "    <tr>\n",
              "      <th>8</th>\n",
              "      <td>0.469388</td>\n",
              "      <td>0.000000</td>\n",
              "      <td>0.0</td>\n",
              "      <td>0.0</td>\n",
              "    </tr>\n",
              "    <tr>\n",
              "      <th>9</th>\n",
              "      <td>0.397959</td>\n",
              "      <td>0.046667</td>\n",
              "      <td>1.0</td>\n",
              "      <td>0.0</td>\n",
              "    </tr>\n",
              "  </tbody>\n",
              "</table>\n",
              "</div>\n",
              "      <button class=\"colab-df-convert\" onclick=\"convertToInteractive('df-9a86f841-dcae-4366-8dce-610bc431a11c')\"\n",
              "              title=\"Convert this dataframe to an interactive table.\"\n",
              "              style=\"display:none;\">\n",
              "        \n",
              "  <svg xmlns=\"http://www.w3.org/2000/svg\" height=\"24px\"viewBox=\"0 0 24 24\"\n",
              "       width=\"24px\">\n",
              "    <path d=\"M0 0h24v24H0V0z\" fill=\"none\"/>\n",
              "    <path d=\"M18.56 5.44l.94 2.06.94-2.06 2.06-.94-2.06-.94-.94-2.06-.94 2.06-2.06.94zm-11 1L8.5 8.5l.94-2.06 2.06-.94-2.06-.94L8.5 2.5l-.94 2.06-2.06.94zm10 10l.94 2.06.94-2.06 2.06-.94-2.06-.94-.94-2.06-.94 2.06-2.06.94z\"/><path d=\"M17.41 7.96l-1.37-1.37c-.4-.4-.92-.59-1.43-.59-.52 0-1.04.2-1.43.59L10.3 9.45l-7.72 7.72c-.78.78-.78 2.05 0 2.83L4 21.41c.39.39.9.59 1.41.59.51 0 1.02-.2 1.41-.59l7.78-7.78 2.81-2.81c.8-.78.8-2.07 0-2.86zM5.41 20L4 18.59l7.72-7.72 1.47 1.35L5.41 20z\"/>\n",
              "  </svg>\n",
              "      </button>\n",
              "      \n",
              "  <style>\n",
              "    .colab-df-container {\n",
              "      display:flex;\n",
              "      flex-wrap:wrap;\n",
              "      gap: 12px;\n",
              "    }\n",
              "\n",
              "    .colab-df-convert {\n",
              "      background-color: #E8F0FE;\n",
              "      border: none;\n",
              "      border-radius: 50%;\n",
              "      cursor: pointer;\n",
              "      display: none;\n",
              "      fill: #1967D2;\n",
              "      height: 32px;\n",
              "      padding: 0 0 0 0;\n",
              "      width: 32px;\n",
              "    }\n",
              "\n",
              "    .colab-df-convert:hover {\n",
              "      background-color: #E2EBFA;\n",
              "      box-shadow: 0px 1px 2px rgba(60, 64, 67, 0.3), 0px 1px 3px 1px rgba(60, 64, 67, 0.15);\n",
              "      fill: #174EA6;\n",
              "    }\n",
              "\n",
              "    [theme=dark] .colab-df-convert {\n",
              "      background-color: #3B4455;\n",
              "      fill: #D2E3FC;\n",
              "    }\n",
              "\n",
              "    [theme=dark] .colab-df-convert:hover {\n",
              "      background-color: #434B5C;\n",
              "      box-shadow: 0px 1px 3px 1px rgba(0, 0, 0, 0.15);\n",
              "      filter: drop-shadow(0px 1px 2px rgba(0, 0, 0, 0.3));\n",
              "      fill: #FFFFFF;\n",
              "    }\n",
              "  </style>\n",
              "\n",
              "      <script>\n",
              "        const buttonEl =\n",
              "          document.querySelector('#df-9a86f841-dcae-4366-8dce-610bc431a11c button.colab-df-convert');\n",
              "        buttonEl.style.display =\n",
              "          google.colab.kernel.accessAllowed ? 'block' : 'none';\n",
              "\n",
              "        async function convertToInteractive(key) {\n",
              "          const element = document.querySelector('#df-9a86f841-dcae-4366-8dce-610bc431a11c');\n",
              "          const dataTable =\n",
              "            await google.colab.kernel.invokeFunction('convertToInteractive',\n",
              "                                                     [key], {});\n",
              "          if (!dataTable) return;\n",
              "\n",
              "          const docLinkHtml = 'Like what you see? Visit the ' +\n",
              "            '<a target=\"_blank\" href=https://colab.research.google.com/notebooks/data_table.ipynb>data table notebook</a>'\n",
              "            + ' to learn more about interactive tables.';\n",
              "          element.innerHTML = '';\n",
              "          dataTable['output_type'] = 'display_data';\n",
              "          await google.colab.output.renderOutput(dataTable, element);\n",
              "          const docLink = document.createElement('div');\n",
              "          docLink.innerHTML = docLinkHtml;\n",
              "          element.appendChild(docLink);\n",
              "        }\n",
              "      </script>\n",
              "    </div>\n",
              "  </div>\n",
              "  "
            ]
          },
          "metadata": {},
          "execution_count": 164
        }
      ]
    },
    {
      "cell_type": "markdown",
      "source": [
        "All the classification models give us an accuracy score of approximately 83-84 % except for Support Vector Machines. Considering the size of our data set, the accuracy is pretty good."
      ],
      "metadata": {
        "id": "b5f613HQton-"
      }
    }
  ]
}